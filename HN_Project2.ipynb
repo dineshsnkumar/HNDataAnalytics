{
 "cells": [
  {
   "cell_type": "code",
   "execution_count": 1,
   "metadata": {},
   "outputs": [
    {
     "name": "stderr",
     "output_type": "stream",
     "text": [
      "[nltk_data] Downloading package wordnet to /home/dinesh/nltk_data...\n",
      "[nltk_data]   Package wordnet is already up-to-date!\n"
     ]
    },
    {
     "data": {
      "text/plain": [
       "True"
      ]
     },
     "execution_count": 1,
     "metadata": {},
     "output_type": "execute_result"
    }
   ],
   "source": [
    "import numpy as np \n",
    "import pandas as pd\n",
    "import nltk\n",
    "nltk.download('wordnet')"
   ]
  },
  {
   "cell_type": "code",
   "execution_count": 2,
   "metadata": {},
   "outputs": [],
   "source": [
    "dataFrame =pd.read_csv(\"hn2018_2019.csv\")"
   ]
  },
  {
   "cell_type": "code",
   "execution_count": 3,
   "metadata": {},
   "outputs": [],
   "source": [
    "# Hardcording training and testing data set \n",
    "\n",
    "trainData= dataFrame[0:276981]\n",
    "testData= dataFrame[276981:]"
   ]
  },
  {
   "cell_type": "code",
   "execution_count": 4,
   "metadata": {},
   "outputs": [],
   "source": [
    "newLowerTitle =trainData[\"Title\"].str.lower()"
   ]
  },
  {
   "cell_type": "code",
   "execution_count": 5,
   "metadata": {},
   "outputs": [],
   "source": [
    "# Tokenize Words \n",
    "\n",
    "words = []\n",
    "\n",
    "for index, row in newLowerTitle.iteritems():\n",
    "    words.append(nltk.word_tokenize(row))\n",
    "        "
   ]
  },
  {
   "cell_type": "code",
   "execution_count": 6,
   "metadata": {},
   "outputs": [],
   "source": [
    "# Need to remove puncuations \n",
    "\n",
    "lemmatizer =nltk.stem.WordNetLemmatizer()\n",
    "\n",
    "vocabulary =[]\n",
    "\n",
    "for word in words:\n",
    "    for w in word:\n",
    "        vocabulary.append(lemmatizer.lemmatize(w))\n",
    "\n",
    "        \n"
   ]
  },
  {
   "cell_type": "code",
   "execution_count": 7,
   "metadata": {},
   "outputs": [
    {
     "name": "stdout",
     "output_type": "stream",
     "text": [
      "['top', 'hacker', 'news', 'book', 'in', '2017', 'beijing', 'enjoys', 'best', 'winter', 'air', 'quality', 'in', 'five', 'year', 'ask', 'hn', ':', 'any', 'domain', 'name', 'registrar', 'that', 'do', \"n't\", 'require', 'javascript', '?', 'controversial', 'therapy', 'ha', 'led', 'to', 'death', 'threat', ',', 'harassment', 'and', 'pseudoscience', 'ruby', '3x3', '–', 'ruby', '3', 'will', 'be', '3', 'time', 'faster', '–', 'what', \"'s\", 'news', '?', 'breaking', 'the', 'glass', 'level', 'cap', 'hundred', 'of', 'pterosaur', 'egg', 'found', 'in', 'record-breaking', 'fossil', 'haul', 'shop', 'without', 'stop', 'with', 'new', 'supermarket', 'trolley', '(', '1996', ')', 'simplecoin', 'site', 'is', 'now', 'iota', 'teaching', 'tool', 'ask', 'hn', ':', 'how', 'would', 'you', 'improve', 'facebooks', 'event', 'feature', '?', 'the', 'mysterious', 'case', 'of']\n"
     ]
    }
   ],
   "source": [
    "print(vocabulary[:100])"
   ]
  },
  {
   "cell_type": "code",
   "execution_count": null,
   "metadata": {},
   "outputs": [],
   "source": [
    "\n"
   ]
  },
  {
   "cell_type": "code",
   "execution_count": null,
   "metadata": {},
   "outputs": [],
   "source": []
  },
  {
   "cell_type": "code",
   "execution_count": null,
   "metadata": {},
   "outputs": [],
   "source": []
  },
  {
   "cell_type": "code",
   "execution_count": null,
   "metadata": {},
   "outputs": [],
   "source": []
  },
  {
   "cell_type": "code",
   "execution_count": null,
   "metadata": {},
   "outputs": [],
   "source": []
  },
  {
   "cell_type": "code",
   "execution_count": null,
   "metadata": {},
   "outputs": [],
   "source": []
  }
 ],
 "metadata": {
  "kernelspec": {
   "display_name": "Python 3",
   "language": "python",
   "name": "python3"
  },
  "language_info": {
   "codemirror_mode": {
    "name": "ipython",
    "version": 3
   },
   "file_extension": ".py",
   "mimetype": "text/x-python",
   "name": "python",
   "nbconvert_exporter": "python",
   "pygments_lexer": "ipython3",
   "version": "3.7.4"
  }
 },
 "nbformat": 4,
 "nbformat_minor": 2
}
