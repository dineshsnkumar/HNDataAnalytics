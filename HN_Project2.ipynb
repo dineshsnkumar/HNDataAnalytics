{
 "cells": [
  {
   "cell_type": "code",
   "execution_count": 1,
   "metadata": {},
   "outputs": [],
   "source": [
    "import numpy as np \n",
    "import pandas as pd\n",
    "import nltk\n",
    "import string"
   ]
  },
  {
   "cell_type": "code",
   "execution_count": 2,
   "metadata": {},
   "outputs": [],
   "source": [
    "dataFrame =pd.read_csv(\"hn2018_2019.csv\")"
   ]
  },
  {
   "cell_type": "code",
   "execution_count": 3,
   "metadata": {},
   "outputs": [],
   "source": [
    "# Hardcording training and testing data set \n",
    "\n",
    "trainData= dataFrame[0:276981]\n",
    "testData= dataFrame[276981:]"
   ]
  },
  {
   "cell_type": "code",
   "execution_count": 4,
   "metadata": {},
   "outputs": [],
   "source": [
    "newLowerTitle =trainData[\"Title\"].str.lower()"
   ]
  },
  {
   "cell_type": "code",
   "execution_count": 5,
   "metadata": {},
   "outputs": [],
   "source": [
    "# Tokenize Words \n",
    "\n",
    "words = []\n",
    "\n",
    "for index, row in newLowerTitle.iteritems():\n",
    "    words.append(nltk.word_tokenize(row))\n",
    "        "
   ]
  },
  {
   "cell_type": "code",
   "execution_count": 6,
   "metadata": {},
   "outputs": [],
   "source": [
    "# Need to remove puncuations \n",
    "\n",
    "lemmatizer =nltk.stem.WordNetLemmatizer()\n",
    "\n",
    "vocabulary =[]\n",
    "\n",
    "for word in words:\n",
    "    for w in word:\n",
    "        vocabulary.append(lemmatizer.lemmatize(w))\n",
    "\n",
    "        \n"
   ]
  },
  {
   "cell_type": "code",
   "execution_count": 8,
   "metadata": {},
   "outputs": [],
   "source": [
    "\n",
    "removePunVocabulary =[''.join(c for c in s if c not in string.punctuation) for s in vocabulary]\n",
    "newVocabulary =list(filter(None, removePunVocabulary))\n",
    "\n",
    "# Frequency dist of first 200 words\n",
    "\n",
    "# nltk.FreqDist(newVocabulary[:200])\n",
    "\n",
    "# Creating a new Data frame \n",
    "\n",
    "postTpeDf= pd.DataFrame(dataFrame['Post Type'])\n",
    "\n",
    "vocDf=pd.DataFrame(newVocabulary, columns=['word'])\n",
    "\n",
    "vocPostTpeDf= postTpeDf.join(vocDf)\n",
    "\n"
   ]
  },
  {
   "cell_type": "code",
   "execution_count": 13,
   "metadata": {},
   "outputs": [],
   "source": [
    "\n",
    "# Finding conditional probability of word \n",
    "\n",
    "postTpe_Prob =vocPostTpeDf.groupby('Post Type').size().div(len(postTpeDf))\n",
    "\n",
    "\n",
    "cond_prob=vocPostTpeDf.groupby(['word','Post Type']).size().div(len(postTpeDf)).div(postTpe_Prob, axis=0, level='Post Type')\n",
    "\n"
   ]
  },
  {
   "cell_type": "code",
   "execution_count": 20,
   "metadata": {},
   "outputs": [
    {
     "data": {
      "text/plain": [
       "word        Post Type\n",
       "0           story        0.000037\n",
       "000         story        0.000008\n",
       "0011204     story        0.000003\n",
       "0025tx      story        0.000003\n",
       "005         story        0.000010\n",
       "                           ...   \n",
       "️           story        0.000016\n",
       "️lightning  story        0.000003\n",
       "﻿﻿autism    story        0.000003\n",
       "🆙           story        0.000003\n",
       "🧙           story        0.000003\n",
       "Length: 41118, dtype: float64"
      ]
     },
     "execution_count": 20,
     "metadata": {},
     "output_type": "execute_result"
    }
   ],
   "source": [
    "cond_prob"
   ]
  },
  {
   "cell_type": "code",
   "execution_count": null,
   "metadata": {},
   "outputs": [],
   "source": []
  },
  {
   "cell_type": "code",
   "execution_count": null,
   "metadata": {},
   "outputs": [],
   "source": []
  },
  {
   "cell_type": "code",
   "execution_count": null,
   "metadata": {},
   "outputs": [],
   "source": []
  },
  {
   "cell_type": "code",
   "execution_count": null,
   "metadata": {},
   "outputs": [],
   "source": []
  },
  {
   "cell_type": "code",
   "execution_count": 26,
   "metadata": {},
   "outputs": [],
   "source": []
  },
  {
   "cell_type": "code",
   "execution_count": 22,
   "metadata": {},
   "outputs": [
    {
     "data": {
      "text/plain": [
       "2350693"
      ]
     },
     "execution_count": 22,
     "metadata": {},
     "output_type": "execute_result"
    }
   ],
   "source": [
    "\n"
   ]
  },
  {
   "cell_type": "code",
   "execution_count": null,
   "metadata": {},
   "outputs": [],
   "source": []
  },
  {
   "cell_type": "code",
   "execution_count": null,
   "metadata": {},
   "outputs": [],
   "source": []
  },
  {
   "cell_type": "code",
   "execution_count": null,
   "metadata": {},
   "outputs": [],
   "source": []
  },
  {
   "cell_type": "code",
   "execution_count": null,
   "metadata": {},
   "outputs": [],
   "source": []
  },
  {
   "cell_type": "code",
   "execution_count": null,
   "metadata": {},
   "outputs": [],
   "source": []
  }
 ],
 "metadata": {
  "kernelspec": {
   "display_name": "Python 3",
   "language": "python",
   "name": "python3"
  },
  "language_info": {
   "codemirror_mode": {
    "name": "ipython",
    "version": 3
   },
   "file_extension": ".py",
   "mimetype": "text/x-python",
   "name": "python",
   "nbconvert_exporter": "python",
   "pygments_lexer": "ipython3",
   "version": "3.7.4"
  }
 },
 "nbformat": 4,
 "nbformat_minor": 2
}
